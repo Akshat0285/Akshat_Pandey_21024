{
 "cells": [
  {
   "cell_type": "code",
   "execution_count": 5,
   "metadata": {},
   "outputs": [],
   "source": [
    "import tensorflow as tf\n",
    "from tensorflow.keras.datasets import mnist\n",
    "from tensorflow.keras.utils import to_categorical"
   ]
  },
  {
   "cell_type": "code",
   "execution_count": 7,
   "metadata": {},
   "outputs": [],
   "source": [
    "# Load and preprocess the MNIST dataset\n",
    "(x_train, y_train), (x_test, y_test) = mnist.load_data()"
   ]
  },
  {
   "cell_type": "code",
   "execution_count": 9,
   "metadata": {},
   "outputs": [],
   "source": [
    "# Normalize pixel values to range [0, 1]\n",
    "x_train, x_test = x_train / 255.0, x_test / 255.0"
   ]
  },
  {
   "cell_type": "code",
   "execution_count": 10,
   "metadata": {},
   "outputs": [],
   "source": [
    "# Convert labels to one-hot encoding\n",
    "y_train = to_categorical(y_train, num_classes=10)\n",
    "y_test = to_categorical(y_test, num_classes=10)"
   ]
  },
  {
   "cell_type": "code",
   "execution_count": 11,
   "metadata": {},
   "outputs": [],
   "source": [
    "# Define the model architecture\n",
    "def dense_neural_network(input_shape, num_classes):\n",
    "    model = tf.keras.models.Sequential([\n",
    "        tf.keras.layers.Flatten(input_shape=input_shape),  # Input layer: Flattens the input data\n",
    "        tf.keras.layers.Dense(128, activation='relu'),     # Hidden layer 1: 128 neurons, ReLU activation\n",
    "        tf.keras.layers.Dense(64, activation='relu'),      # Hidden layer 2: 64 neurons, ReLU activation\n",
    "        tf.keras.layers.Dense(32, activation='relu'),      # Hidden layer 3: 32 neurons, ReLU activation\n",
    "        tf.keras.layers.Dense(num_classes, activation='softmax')  # Output layer: num_classes neurons, softmax activation\n",
    "    ])\n",
    "    return model\n"
   ]
  },
  {
   "cell_type": "code",
   "execution_count": 13,
   "metadata": {},
   "outputs": [],
   "source": [
    "# Create an instance of the model\n",
    "input_shape = (28, 28)  # MNIST images are 28x28 pixels\n",
    "num_classes = 10        # 10 classes (digits 0-9)\n",
    "model = dense_neural_network(input_shape, num_classes)"
   ]
  },
  {
   "cell_type": "code",
   "execution_count": 14,
   "metadata": {},
   "outputs": [],
   "source": [
    "# Compile the model\n",
    "model.compile(optimizer='adam',  # Optimizer: Adam\n",
    "              loss='categorical_crossentropy',  # Loss function: Cross-entropy\n",
    "              metrics=['accuracy'])  # Metrics to monitor during training: Accuracy\n"
   ]
  },
  {
   "cell_type": "code",
   "execution_count": 15,
   "metadata": {},
   "outputs": [
    {
     "name": "stdout",
     "output_type": "stream",
     "text": [
      "Epoch 1/10\n",
      "1875/1875 [==============================] - 12s 5ms/step - loss: 0.8906 - accuracy: 0.7029 - val_loss: 0.5460 - val_accuracy: 0.8363\n",
      "Epoch 2/10\n",
      "1875/1875 [==============================] - 9s 5ms/step - loss: 0.4347 - accuracy: 0.8716 - val_loss: 0.3367 - val_accuracy: 0.9005\n",
      "Epoch 3/10\n",
      "1875/1875 [==============================] - 9s 5ms/step - loss: 0.3113 - accuracy: 0.9085 - val_loss: 0.2656 - val_accuracy: 0.9206\n",
      "Epoch 4/10\n",
      "1875/1875 [==============================] - 9s 5ms/step - loss: 0.2462 - accuracy: 0.9270 - val_loss: 0.2156 - val_accuracy: 0.9358\n",
      "Epoch 5/10\n",
      "1875/1875 [==============================] - 10s 5ms/step - loss: 0.2041 - accuracy: 0.9392 - val_loss: 0.2012 - val_accuracy: 0.9397\n",
      "Epoch 6/10\n",
      "1875/1875 [==============================] - 10s 5ms/step - loss: 0.1744 - accuracy: 0.9477 - val_loss: 0.1672 - val_accuracy: 0.9481\n",
      "Epoch 7/10\n",
      "1875/1875 [==============================] - 11s 6ms/step - loss: 0.1536 - accuracy: 0.9539 - val_loss: 0.1648 - val_accuracy: 0.9476\n",
      "Epoch 8/10\n",
      "1875/1875 [==============================] - 10s 5ms/step - loss: 0.1365 - accuracy: 0.9587 - val_loss: 0.1578 - val_accuracy: 0.9531\n",
      "Epoch 9/10\n",
      "1875/1875 [==============================] - 10s 5ms/step - loss: 0.1225 - accuracy: 0.9633 - val_loss: 0.1387 - val_accuracy: 0.9563\n",
      "Epoch 10/10\n",
      "1875/1875 [==============================] - 9s 5ms/step - loss: 0.1122 - accuracy: 0.9660 - val_loss: 0.1313 - val_accuracy: 0.9604\n"
     ]
    },
    {
     "data": {
      "text/plain": [
       "<keras.src.callbacks.History at 0x24b8536ddd0>"
      ]
     },
     "execution_count": 15,
     "metadata": {},
     "output_type": "execute_result"
    }
   ],
   "source": [
    "# Train the model\n",
    "model.fit(x_train, y_train, epochs=10, batch_size=32, validation_data=(x_test, y_test))"
   ]
  },
  {
   "cell_type": "code",
   "execution_count": 16,
   "metadata": {},
   "outputs": [
    {
     "name": "stdout",
     "output_type": "stream",
     "text": [
      "313/313 [==============================] - 1s 4ms/step - loss: 0.1313 - accuracy: 0.9604\n",
      "Test loss: 0.13132068514823914\n",
      "Test accuracy: 0.9603999853134155\n"
     ]
    }
   ],
   "source": [
    "# Evaluate the model on the test set\n",
    "test_loss, test_accuracy = model.evaluate(x_test, y_test)\n",
    "print(f'Test loss: {test_loss}')\n",
    "print(f'Test accuracy: {test_accuracy}')"
   ]
  },
  {
   "cell_type": "code",
   "execution_count": null,
   "metadata": {},
   "outputs": [],
   "source": []
  }
 ],
 "metadata": {
  "kernelspec": {
   "display_name": "Python 3",
   "language": "python",
   "name": "python3"
  },
  "language_info": {
   "codemirror_mode": {
    "name": "ipython",
    "version": 3
   },
   "file_extension": ".py",
   "mimetype": "text/x-python",
   "name": "python",
   "nbconvert_exporter": "python",
   "pygments_lexer": "ipython3",
   "version": "3.11.5"
  }
 },
 "nbformat": 4,
 "nbformat_minor": 2
}
