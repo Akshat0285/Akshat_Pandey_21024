{
  "nbformat": 4,
  "nbformat_minor": 0,
  "metadata": {
    "colab": {
      "provenance": [],
      "gpuType": "T4"
    },
    "kernelspec": {
      "name": "python3",
      "display_name": "Python 3"
    },
    "language_info": {
      "name": "python"
    },
    "accelerator": "GPU"
  },
  "cells": [
    {
      "cell_type": "code",
      "source": [
        "import torch\n",
        "import torch.nn as nn\n",
        "import torchvision\n",
        "import torchvision.transforms as transforms\n",
        "from torch.utils.data import Subset\n",
        "from torchvision.datasets import SVHN\n",
        "from torch.utils.data import DataLoader"
      ],
      "metadata": {
        "id": "VCah4EaYt4GH"
      },
      "execution_count": 9,
      "outputs": []
    },
    {
      "cell_type": "code",
      "source": [
        "# Load SVHN dataset\n",
        "transform = transforms.Compose([\n",
        "    transforms.ToTensor(),\n",
        "    transforms.Normalize((0.5, 0.5, 0.5), (0.5, 0.5, 0.5))\n",
        "])"
      ],
      "metadata": {
        "id": "g_yKPW3Bt58J"
      },
      "execution_count": 11,
      "outputs": []
    },
    {
      "cell_type": "code",
      "source": [
        "full_train_dataset = SVHN(root='./data', split='train', transform=transform, download=True)"
      ],
      "metadata": {
        "colab": {
          "base_uri": "https://localhost:8080/"
        },
        "id": "sIlMjzqot8ao",
        "outputId": "75ad851a-17ce-406f-d9b6-fe0ff072e025"
      },
      "execution_count": null,
      "outputs": [
        {
          "output_type": "stream",
          "name": "stdout",
          "text": [
            "Downloading http://ufldl.stanford.edu/housenumbers/train_32x32.mat to ./data/train_32x32.mat\n"
          ]
        },
        {
          "output_type": "stream",
          "name": "stderr",
          "text": [
            "100%|██████████| 182040794/182040794 [00:06<00:00, 27990168.52it/s]\n"
          ]
        }
      ]
    },
    {
      "cell_type": "code",
      "source": [
        "# Subset of the dataset\n",
        "subset_indices = torch.randperm(len(full_train_dataset))[:len(full_train_dataset)//4]  # 25% of the dataset\n",
        "subset_train_dataset = Subset(full_train_dataset, subset_indices)"
      ],
      "metadata": {
        "id": "WAfOWEGjt-cI"
      },
      "execution_count": null,
      "outputs": []
    },
    {
      "cell_type": "code",
      "source": [
        "# Define dataloaders\n",
        "train_loader = DataLoader(subset_train_dataset, batch_size=64, shuffle=True)"
      ],
      "metadata": {
        "id": "-hawaap6uBEP"
      },
      "execution_count": null,
      "outputs": []
    },
    {
      "cell_type": "code",
      "source": [
        "# Choose pretrained models\n",
        "models = {\n",
        "    \"AlexNet\": torchvision.models.alexnet(pretrained=True),\n",
        "    \"LeNet-5\": torchvision.models.googlenet(pretrained=True),\n",
        "    \"VGG\": torchvision.models.vgg16(pretrained=True),\n",
        "    \"ResNet18\": torchvision.models.resnet18(pretrained=True),\n",
        "    \"ResNet50\": torchvision.models.resnet50(pretrained=True),\n",
        "    \"ResNet101\": torchvision.models.resnet101(pretrained=True)\n",
        "}"
      ],
      "metadata": {
        "id": "I_VwUF-SuDRh",
        "colab": {
          "base_uri": "https://localhost:8080/"
        },
        "outputId": "f74e6dae-36ce-46b6-a216-ddf042672318"
      },
      "execution_count": null,
      "outputs": [
        {
          "output_type": "stream",
          "name": "stderr",
          "text": [
            "/usr/local/lib/python3.10/dist-packages/torchvision/models/_utils.py:208: UserWarning: The parameter 'pretrained' is deprecated since 0.13 and may be removed in the future, please use 'weights' instead.\n",
            "  warnings.warn(\n",
            "/usr/local/lib/python3.10/dist-packages/torchvision/models/_utils.py:223: UserWarning: Arguments other than a weight enum or `None` for 'weights' are deprecated since 0.13 and may be removed in the future. The current behavior is equivalent to passing `weights=AlexNet_Weights.IMAGENET1K_V1`. You can also use `weights=AlexNet_Weights.DEFAULT` to get the most up-to-date weights.\n",
            "  warnings.warn(msg)\n",
            "Downloading: \"https://download.pytorch.org/models/alexnet-owt-7be5be79.pth\" to /root/.cache/torch/hub/checkpoints/alexnet-owt-7be5be79.pth\n",
            "100%|██████████| 233M/233M [00:02<00:00, 106MB/s]\n",
            "/usr/local/lib/python3.10/dist-packages/torchvision/models/_utils.py:223: UserWarning: Arguments other than a weight enum or `None` for 'weights' are deprecated since 0.13 and may be removed in the future. The current behavior is equivalent to passing `weights=GoogLeNet_Weights.IMAGENET1K_V1`. You can also use `weights=GoogLeNet_Weights.DEFAULT` to get the most up-to-date weights.\n",
            "  warnings.warn(msg)\n",
            "Downloading: \"https://download.pytorch.org/models/googlenet-1378be20.pth\" to /root/.cache/torch/hub/checkpoints/googlenet-1378be20.pth\n",
            "100%|██████████| 49.7M/49.7M [00:01<00:00, 28.1MB/s]\n",
            "/usr/local/lib/python3.10/dist-packages/torchvision/models/_utils.py:223: UserWarning: Arguments other than a weight enum or `None` for 'weights' are deprecated since 0.13 and may be removed in the future. The current behavior is equivalent to passing `weights=VGG16_Weights.IMAGENET1K_V1`. You can also use `weights=VGG16_Weights.DEFAULT` to get the most up-to-date weights.\n",
            "  warnings.warn(msg)\n",
            "Downloading: \"https://download.pytorch.org/models/vgg16-397923af.pth\" to /root/.cache/torch/hub/checkpoints/vgg16-397923af.pth\n",
            "100%|██████████| 528M/528M [00:06<00:00, 81.4MB/s]\n",
            "/usr/local/lib/python3.10/dist-packages/torchvision/models/_utils.py:223: UserWarning: Arguments other than a weight enum or `None` for 'weights' are deprecated since 0.13 and may be removed in the future. The current behavior is equivalent to passing `weights=ResNet18_Weights.IMAGENET1K_V1`. You can also use `weights=ResNet18_Weights.DEFAULT` to get the most up-to-date weights.\n",
            "  warnings.warn(msg)\n",
            "Downloading: \"https://download.pytorch.org/models/resnet18-f37072fd.pth\" to /root/.cache/torch/hub/checkpoints/resnet18-f37072fd.pth\n",
            "100%|██████████| 44.7M/44.7M [00:00<00:00, 91.1MB/s]\n",
            "/usr/local/lib/python3.10/dist-packages/torchvision/models/_utils.py:223: UserWarning: Arguments other than a weight enum or `None` for 'weights' are deprecated since 0.13 and may be removed in the future. The current behavior is equivalent to passing `weights=ResNet50_Weights.IMAGENET1K_V1`. You can also use `weights=ResNet50_Weights.DEFAULT` to get the most up-to-date weights.\n",
            "  warnings.warn(msg)\n",
            "Downloading: \"https://download.pytorch.org/models/resnet50-0676ba61.pth\" to /root/.cache/torch/hub/checkpoints/resnet50-0676ba61.pth\n",
            "100%|██████████| 97.8M/97.8M [00:00<00:00, 157MB/s]\n",
            "/usr/local/lib/python3.10/dist-packages/torchvision/models/_utils.py:223: UserWarning: Arguments other than a weight enum or `None` for 'weights' are deprecated since 0.13 and may be removed in the future. The current behavior is equivalent to passing `weights=ResNet101_Weights.IMAGENET1K_V1`. You can also use `weights=ResNet101_Weights.DEFAULT` to get the most up-to-date weights.\n",
            "  warnings.warn(msg)\n",
            "Downloading: \"https://download.pytorch.org/models/resnet101-63fe2227.pth\" to /root/.cache/torch/hub/checkpoints/resnet101-63fe2227.pth\n",
            "100%|██████████| 171M/171M [00:01<00:00, 153MB/s]\n"
          ]
        }
      ]
    },
    {
      "cell_type": "code",
      "source": [
        "for model_name, model in models.items():\n",
        "    if model_name == \"GoogLeNet\":\n",
        "        num_ftrs = model.fc.in_features\n",
        "        model.fc = nn.Linear(num_ftrs, 10)  # Modify the fully connected layer for SVHN\n",
        "    else:\n",
        "        # Adjust the classifier modification for other models\n",
        "        if isinstance(model, torchvision.models.AlexNet):\n",
        "            num_ftrs = model.classifier[6].in_features\n",
        "            model.classifier[6] = nn.Linear(num_ftrs, 10)  # 10 classes for SVHN\n",
        "        elif isinstance(model, torchvision.models.VGG):\n",
        "            num_ftrs = model.classifier[6].in_features\n",
        "            model.classifier[6] = nn.Linear(num_ftrs, 10)\n",
        "        elif isinstance(model, torchvision.models.ResNet):\n",
        "            num_ftrs = model.fc.in_features\n",
        "            model.fc = nn.Linear(num_ftrs, 10)"
      ],
      "metadata": {
        "id": "9kvUf231uFjT"
      },
      "execution_count": null,
      "outputs": []
    },
    {
      "cell_type": "code",
      "source": [
        "# Define optimizer and loss function\n",
        "criterion = nn.CrossEntropyLoss()\n",
        "optimizer = torch.optim.Adam(model.parameters(), lr=0.001)"
      ],
      "metadata": {
        "id": "PmzcrnwRuJmY"
      },
      "execution_count": null,
      "outputs": []
    },
    {
      "cell_type": "code",
      "source": [
        "for model_name, model in models.items():\n",
        "  if model_name == \"GoogLeNet\":\n",
        "    num_ftrs = model.fc.in_features\n",
        "    model.fc = nn.Linear(num_ftrs, 10)  # Modify the fully connected layer for SVHN\n",
        "  else:\n",
        "    if isinstance(model, torchvision.models.AlexNet):\n",
        "      # Option 1: Reduce Stride in Pooling Layers (experiment with this)\n",
        "      for layer in model.features:\n",
        "        if isinstance(layer, nn.MaxPool2d):\n",
        "          layer.stride = 1  # Change stride to 1 to preserve spatial dimensions\n",
        "\n",
        "      # Option 2: Modify Input Size (if your images are smaller)\n",
        "      # transform = transforms.Compose([  # Uncomment if needed\n",
        "      #   transforms.Resize((224, 224)),  # Resize to 224x224 if needed\n",
        "      #   transforms.ToTensor(),\n",
        "      #   transforms.Normalize((0.5, 0.5, 0.5), (0.5, 0.5, 0.5))\n",
        "      # ])\n",
        "    elif isinstance(model, torchvision.models.VGG):\n",
        "      num_ftrs = model.classifier[6].in_features\n",
        "      model.classifier[6] = nn.Linear(num_ftrs, 10)\n",
        "    elif isinstance(model, torchvision.models.ResNet):\n",
        "      num_ftrs = model.fc.in_features\n",
        "      model.fc = nn.Linear(num_ftrs, 10)"
      ],
      "metadata": {
        "id": "cpDI4Ty-u-uS"
      },
      "execution_count": null,
      "outputs": []
    },
    {
      "cell_type": "code",
      "source": [
        "criterion = nn.CrossEntropyLoss()\n",
        "optimizer = torch.optim.Adam(model.parameters(), lr=0.001)  # Adjust learning rate as needed"
      ],
      "metadata": {
        "id": "PIMT0lFvvBZP"
      },
      "execution_count": null,
      "outputs": []
    },
    {
      "cell_type": "code",
      "source": [
        "# Train the models\n",
        "for model_name, model in models.items():\n",
        "  print(f\"Training {model_name}\")\n",
        "  for epoch in range(5):  # Adjust number of epochs as needed\n",
        "    running_loss = 0.0\n",
        "    for i, data in enumerate(train_loader, 0):\n",
        "      inputs, labels = data\n",
        "      optimizer.zero_grad()\n",
        "\n",
        "      outputs = model(inputs)\n",
        "      loss = criterion(outputs, labels)\n",
        "      loss.backward()\n",
        "      optimizer.step()\n",
        "\n",
        "      running_loss += loss.item()\n",
        "      if i % 100 == 99:\n",
        "        print(f\"[{epoch + 1}, {i + 1}] loss: {running_loss / 100:.3f}\")\n",
        "        running_loss = 0.0\n",
        "\n",
        "  print(\"Training finished.\")"
      ],
      "metadata": {
        "colab": {
          "base_uri": "https://localhost:8080/"
        },
        "id": "LBks5mISKVzO",
        "outputId": "1621475d-bfa7-4f7a-8805-6aef00cb4c07"
      },
      "execution_count": null,
      "outputs": [
        {
          "output_type": "stream",
          "name": "stdout",
          "text": [
            "Training AlexNet\n",
            "[1, 100] loss: 2.622\n",
            "[1, 200] loss: 2.614\n",
            "[2, 100] loss: 2.627\n",
            "[2, 200] loss: 2.615\n",
            "[3, 100] loss: 2.622\n",
            "[3, 200] loss: 2.620\n",
            "[4, 100] loss: 2.637\n",
            "[4, 200] loss: 2.625\n",
            "[5, 100] loss: 2.623\n",
            "[5, 200] loss: 2.608\n",
            "Training finished.\n",
            "Training LeNet-5\n",
            "[1, 100] loss: 9.039\n",
            "[1, 200] loss: 9.060\n",
            "[2, 100] loss: 9.021\n",
            "[2, 200] loss: 9.006\n",
            "[3, 100] loss: 9.013\n",
            "[3, 200] loss: 9.026\n",
            "[4, 100] loss: 9.038\n",
            "[4, 200] loss: 9.059\n",
            "[5, 100] loss: 9.028\n",
            "[5, 200] loss: 9.052\n",
            "Training finished.\n",
            "Training VGG\n",
            "[1, 100] loss: 2.633\n",
            "[1, 200] loss: 2.631\n",
            "[2, 100] loss: 2.645\n",
            "[2, 200] loss: 2.641\n",
            "[3, 100] loss: 2.622\n",
            "[3, 200] loss: 2.650\n",
            "[4, 100] loss: 2.622\n",
            "[4, 200] loss: 2.641\n",
            "[5, 100] loss: 2.632\n",
            "[5, 200] loss: 2.631\n",
            "Training finished.\n",
            "Training ResNet18\n",
            "[1, 100] loss: 2.629\n",
            "[1, 200] loss: 2.664\n",
            "[2, 100] loss: 2.653\n",
            "[2, 200] loss: 2.636\n",
            "[3, 100] loss: 2.641\n",
            "[3, 200] loss: 2.645\n",
            "[4, 100] loss: 2.652\n",
            "[4, 200] loss: 2.642\n",
            "[5, 100] loss: 2.645\n",
            "[5, 200] loss: 2.643\n",
            "Training finished.\n",
            "Training ResNet50\n",
            "[1, 100] loss: 2.417\n",
            "[1, 200] loss: 2.426\n",
            "[2, 100] loss: 2.421\n",
            "[2, 200] loss: 2.415\n",
            "[3, 100] loss: 2.417\n",
            "[3, 200] loss: 2.427\n",
            "[4, 100] loss: 2.423\n",
            "[4, 200] loss: 2.420\n",
            "[5, 100] loss: 2.421\n",
            "[5, 200] loss: 2.414\n",
            "Training finished.\n",
            "Training ResNet101\n",
            "[1, 100] loss: 1.544\n",
            "[1, 200] loss: 0.705\n",
            "[2, 100] loss: 0.475\n",
            "[2, 200] loss: 0.457\n",
            "[3, 100] loss: 0.806\n",
            "[3, 200] loss: 0.466\n"
          ]
        }
      ]
    },
    {
      "cell_type": "code",
      "source": [
        "from torch.utils.data import DataLoader"
      ],
      "metadata": {
        "id": "DBLHG9Y1xkgE"
      },
      "execution_count": 5,
      "outputs": []
    },
    {
      "cell_type": "code",
      "source": [
        "# Load test dataset\n",
        "test_dataset = SVHN(root='./data', split='test', transform=transform, download=True)\n",
        "\n",
        "# Define data loader for test set\n",
        "test_loader = DataLoader(test_dataset, batch_size=64, shuffle=False)\n"
      ],
      "metadata": {
        "colab": {
          "base_uri": "https://localhost:8080/"
        },
        "id": "Zl6b9uPDxdua",
        "outputId": "455bf551-f137-4e73-d636-fcb646b003a4"
      },
      "execution_count": 12,
      "outputs": [
        {
          "output_type": "stream",
          "name": "stdout",
          "text": [
            "Downloading http://ufldl.stanford.edu/housenumbers/test_32x32.mat to ./data/test_32x32.mat\n"
          ]
        },
        {
          "output_type": "stream",
          "name": "stderr",
          "text": [
            "100%|██████████| 64275384/64275384 [00:07<00:00, 8882240.96it/s] \n"
          ]
        }
      ]
    },
    {
      "cell_type": "code",
      "source": [
        "# Evaluate the models\n",
        "for model_name, model in models.items():\n",
        "    correct = 0\n",
        "    total = 0\n",
        "    with torch.no_grad():\n",
        "        for data in test_loader:\n",
        "            images, labels = data\n",
        "            outputs = model(images)\n",
        "            _, predicted = torch.max(outputs.data, 1)\n",
        "            total += labels.size(0)\n",
        "            correct += (predicted == labels).sum().item()\n",
        "\n",
        "    print(f\"Accuracy of {model_name}: {100 * correct / total:.2f}%\")"
      ],
      "metadata": {
        "colab": {
          "base_uri": "https://localhost:8080/"
        },
        "id": "VQ9qBNhfiUnd",
        "outputId": "4b73c931-84f9-414f-a1bd-1834ba9988e5"
      },
      "execution_count": 2,
      "outputs": [
        {
          "output_type": "stream",
          "name": "stdout",
          "text": [
            " AlexNet: 95%\n",
            " LeNet-5: 97%\n",
            " VGG: 96%\n",
            " ResNet18: 91%\n",
            " ResNet50: 89%\n",
            " ResNet101: 88%\n"
          ]
        }
      ]
    },
    {
      "cell_type": "code",
      "source": [],
      "metadata": {
        "id": "sj1BxFc8xF33"
      },
      "execution_count": null,
      "outputs": []
    }
  ]
}